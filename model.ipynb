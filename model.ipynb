{
 "cells": [
  {
   "cell_type": "markdown",
   "metadata": {},
   "source": [
    "# 1. Data split train / test"
   ]
  },
  {
   "cell_type": "code",
   "execution_count": 1,
   "metadata": {},
   "outputs": [],
   "source": [
    "import pandas as pd\n",
    "dt = pd.read_csv(\"processed_data.csv\")"
   ]
  },
  {
   "cell_type": "code",
   "execution_count": 2,
   "metadata": {},
   "outputs": [],
   "source": [
    "dt = dt[dt[\"processed_text\"].notnull()]"
   ]
  },
  {
   "cell_type": "code",
   "execution_count": 3,
   "metadata": {},
   "outputs": [],
   "source": [
    "dt = pd.DataFrame(dt, columns=[\"label\", \"processed_text\"])"
   ]
  },
  {
   "cell_type": "code",
   "execution_count": 4,
   "metadata": {},
   "outputs": [],
   "source": [
    "from sklearn.feature_extraction.text import CountVectorizer, TfidfVectorizer\n",
    "from sklearn.model_selection import train_test_split\n",
    "\n",
    "cv = CountVectorizer()\n",
    "tf = TfidfVectorizer()"
   ]
  },
  {
   "cell_type": "code",
   "execution_count": 5,
   "metadata": {},
   "outputs": [],
   "source": [
    "# using count vectorizer\n",
    "text = cv.fit_transform(dt[\"processed_text\"])"
   ]
  },
  {
   "cell_type": "code",
   "execution_count": 6,
   "metadata": {},
   "outputs": [],
   "source": [
    "# using tfidf vectorizer\n",
    "tftext = tf.fit_transform(dt[\"processed_text\"])"
   ]
  },
  {
   "cell_type": "code",
   "execution_count": 7,
   "metadata": {},
   "outputs": [],
   "source": [
    "# split\n",
    "x_train, x_test, y_train, y_test = train_test_split(tftext, dt[\"label\"], test_size=0.2, random_state=1)"
   ]
  },
  {
   "cell_type": "markdown",
   "metadata": {},
   "source": [
    "# 2. Naive Bayes"
   ]
  },
  {
   "cell_type": "code",
   "execution_count": 8,
   "metadata": {},
   "outputs": [],
   "source": [
    "from sklearn.naive_bayes import MultinomialNB\n",
    "from sklearn.naive_bayes import BernoulliNB\n",
    "from sklearn.metrics import accuracy_score, precision_score, recall_score, f1_score\n",
    "mnb = MultinomialNB()\n",
    "bnb = BernoulliNB()"
   ]
  },
  {
   "cell_type": "code",
   "execution_count": 9,
   "metadata": {},
   "outputs": [],
   "source": [
    "# multinomialNB\n",
    "mnb.fit(x_train, y_train)\n",
    "mnb_prediction = mnb.predict(x_test)"
   ]
  },
  {
   "cell_type": "code",
   "execution_count": 10,
   "metadata": {},
   "outputs": [
    {
     "name": "stdout",
     "output_type": "stream",
     "text": [
      "Accuracy score: 0.9291705498602051\n",
      "Precision score: 0.9984152139461173\n",
      "Recall score: 0.73512252042007\n",
      "f1 score: 0.8467741935483871\n"
     ]
    }
   ],
   "source": [
    "# multinomialNB scores\n",
    "print(\"Accuracy score: {}\".format(accuracy_score(y_test, mnb_prediction)))\n",
    "print(\"Precision score: {}\".format(precision_score(y_test, mnb_prediction)))\n",
    "print(\"Recall score: {}\".format(recall_score(y_test, mnb_prediction)))\n",
    "print(\"f1 score: {}\".format(f1_score(y_test, mnb_prediction)))"
   ]
  },
  {
   "cell_type": "code",
   "execution_count": 11,
   "metadata": {},
   "outputs": [],
   "source": [
    "# BernoulliNB\n",
    "bnb.fit(x_train, y_train)\n",
    "bnb_prediction = bnb.predict(x_test)"
   ]
  },
  {
   "cell_type": "code",
   "execution_count": 12,
   "metadata": {},
   "outputs": [
    {
     "name": "stdout",
     "output_type": "stream",
     "text": [
      "Accuracy score: 0.9217148182665424\n",
      "Precision score: 0.9590288315629742\n",
      "Recall score: 0.7374562427071178\n",
      "f1 score: 0.8337730870712401\n"
     ]
    }
   ],
   "source": [
    "# BernoulliNB scores\n",
    "print(\"Accuracy score: {}\".format(accuracy_score(y_test, bnb_prediction)))\n",
    "print(\"Precision score: {}\".format(precision_score(y_test, bnb_prediction)))\n",
    "print(\"Recall score: {}\".format(recall_score(y_test, bnb_prediction)))\n",
    "print(\"f1 score: {}\".format(f1_score(y_test, bnb_prediction)))"
   ]
  },
  {
   "cell_type": "markdown",
   "metadata": {},
   "source": [
    "# 3. Logistic Regression"
   ]
  },
  {
   "cell_type": "code",
   "execution_count": 13,
   "metadata": {},
   "outputs": [],
   "source": [
    "from sklearn.linear_model import LogisticRegression\n",
    "lr = LogisticRegression()"
   ]
  },
  {
   "cell_type": "code",
   "execution_count": 14,
   "metadata": {},
   "outputs": [],
   "source": [
    "# Logistic Regression\n",
    "lr.fit(x_train, y_train)\n",
    "lr_prediction = lr.predict(x_test)"
   ]
  },
  {
   "cell_type": "code",
   "execution_count": 15,
   "metadata": {},
   "outputs": [
    {
     "name": "stdout",
     "output_type": "stream",
     "text": [
      "Accuracy score: 0.9906803355079217\n",
      "Precision score: 0.9758342922899885\n",
      "Recall score: 0.9894982497082847\n",
      "f1 score: 0.9826187717265353\n"
     ]
    }
   ],
   "source": [
    "# Logistic Regression scores\n",
    "print(\"Accuracy score: {}\".format(accuracy_score(y_test, lr_prediction)))\n",
    "print(\"Precision score: {}\".format(precision_score(y_test, lr_prediction)))\n",
    "print(\"Recall score: {}\".format(recall_score(y_test, lr_prediction)))\n",
    "print(\"f1 score: {}\".format(f1_score(y_test, lr_prediction)))"
   ]
  }
 ],
 "metadata": {
  "kernelspec": {
   "display_name": "Python 3",
   "language": "python",
   "name": "python3"
  },
  "language_info": {
   "codemirror_mode": {
    "name": "ipython",
    "version": 3
   },
   "file_extension": ".py",
   "mimetype": "text/x-python",
   "name": "python",
   "nbconvert_exporter": "python",
   "pygments_lexer": "ipython3",
   "version": "3.12.3"
  }
 },
 "nbformat": 4,
 "nbformat_minor": 2
}
